{
 "cells": [
  {
   "cell_type": "code",
   "execution_count": 32,
   "id": "bf1aba94-bbf7-4665-9ded-684d55585ce1",
   "metadata": {},
   "outputs": [
    {
     "data": {
      "text/html": [
       "\n",
       "<style>\n",
       "    /* Turns off some styling */\n",
       "    progress {\n",
       "        /* gets rid of default border in Firefox and Opera. */\n",
       "        border: none;\n",
       "        /* Needs to be in here for Safari polyfill so background images work as expected. */\n",
       "        background-size: auto;\n",
       "    }\n",
       "    progress:not([value]), progress:not([value])::-webkit-progress-bar {\n",
       "        background: repeating-linear-gradient(45deg, #7e7e7e, #7e7e7e 10px, #5c5c5c 10px, #5c5c5c 20px);\n",
       "    }\n",
       "    .progress-bar-interrupted, .progress-bar-interrupted::-webkit-progress-bar {\n",
       "        background: #F44336;\n",
       "    }\n",
       "</style>\n"
      ],
      "text/plain": [
       "<IPython.core.display.HTML object>"
      ]
     },
     "metadata": {},
     "output_type": "display_data"
    },
    {
     "data": {
      "text/html": [],
      "text/plain": [
       "<IPython.core.display.HTML object>"
      ]
     },
     "metadata": {},
     "output_type": "display_data"
    },
    {
     "name": "stdout",
     "output_type": "stream",
     "text": [
      "Predicted label (number): 7\n",
      "Predicted label (stage): Milking\n",
      "Actual label (number): 7\n",
      "Actual label (stage): Milking\n"
     ]
    }
   ],
   "source": [
    "from fastai.vision.all import *\n",
    "from efficientnet_pytorch import EfficientNet\n",
    "import pandas as pd\n",
    "from PIL import Image\n",
    "import os\n",
    "import re\n",
    "\n",
    "# Load the saved model\n",
    "learn = load_learner('./Models/age_efficientnet-b0.pkl')\n",
    "\n",
    "stage_mapping = {\n",
    "    1: \"Crown Root\",\n",
    "    2: \"Tillering\",\n",
    "    3: \"Mid Vegetative Phase\",\n",
    "    4: \"Booting\",\n",
    "    5: \"Heading\",\n",
    "    6: \"Anthesis\",\n",
    "    7: \"Milking\"\n",
    "}\n",
    "\n",
    "def predict_with_actual_label(image_path, train_csv_path):\n",
    "    img = PILImage.create(image_path)\n",
    "    pred, _, probs = learn.predict(img)\n",
    "    \n",
    "    predicted_label_num = int(pred)\n",
    "    \n",
    "    filename = os.path.basename(image_path)\n",
    "    uid = re.match(r'(\\w+)', filename).group(1)\n",
    "    \n",
    "    df = pd.read_csv(train_csv_path)\n",
    "    \n",
    "    actual_label_num = df[df['UID'] == uid]['growth_stage'].iloc[0]\n",
    "    \n",
    "    actual_label_stage = stage_mapping[actual_label_num]\n",
    "    predicted_label_stage = stage_mapping[predicted_label_num]\n",
    "    \n",
    "    print(f\"Predicted label (number): {predicted_label_num}\")\n",
    "    print(f\"Predicted label (stage): {predicted_label_stage}\")\n",
    "    print(f\"Actual label (number): {actual_label_num}\")\n",
    "    print(f\"Actual label (stage): {actual_label_stage}\")\n",
    "\n",
    "image_path = \"C:\\\\Users\\\\gargm\\\\Desktop\\\\Projects\\\\PBL2\\\\Dataset\\\\Images\\\\Q5iyu8IP.jpeg\"\n",
    "train_csv_path = \"./Dataset/Train.csv\"\n",
    "\n",
    "predict_with_actual_label(image_path, train_csv_path)\n",
    "#kFs1GZ2y\n",
    "#Q5iyu8IP"
   ]
  },
  {
   "cell_type": "code",
   "execution_count": null,
   "id": "713d774c-5626-48ab-b8ef-f0b364582bed",
   "metadata": {},
   "outputs": [],
   "source": []
  },
  {
   "cell_type": "code",
   "execution_count": null,
   "id": "69c86f51-d608-4791-8c50-ba1bfd72e7ae",
   "metadata": {},
   "outputs": [],
   "source": []
  }
 ],
 "metadata": {
  "kernelspec": {
   "display_name": "Python 3 (ipykernel)",
   "language": "python",
   "name": "python3"
  },
  "language_info": {
   "codemirror_mode": {
    "name": "ipython",
    "version": 3
   },
   "file_extension": ".py",
   "mimetype": "text/x-python",
   "name": "python",
   "nbconvert_exporter": "python",
   "pygments_lexer": "ipython3",
   "version": "3.11.7"
  }
 },
 "nbformat": 4,
 "nbformat_minor": 5
}
